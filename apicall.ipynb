{
 "cells": [
  {
   "cell_type": "code",
   "execution_count": 12,
   "metadata": {},
   "outputs": [
    {
     "name": "stdout",
     "output_type": "stream",
     "text": [
      "Enter Country name nepal\n",
      "ActiveCases = 38 \n",
      "Continent = Asia \n",
      "CountryOther = Nepal \n",
      "Deaths1M pop = 0 \n",
      "NewCases = +3 \n",
      "NewDeaths = 0 \n",
      "SeriousCritical = 0 \n",
      "Tests\n",
      "1M pop\n",
      " = 301 \n",
      "TotalCases = 45 \n",
      "TotalDeaths = 0 \n",
      "TotalRecovered = 7 \n",
      "TotalTests = 8773 \n",
      "Tot Cases1M pop = 2 \n",
      "Source : https://www.worldometers.info/coronavirus/\n"
     ]
    }
   ],
   "source": [
    "import requests\n",
    "import json\n",
    "\n",
    "url=\"https://nirjal.herokuapp.com\"\n",
    "country=input(\"Enter Country name \")\n",
    "\n",
    "#get your apikey at \n",
    "#https://nirjal.herokuapp.com/corona\n",
    "\n",
    "#defining the parameter\n",
    "params={\n",
    "    \"apikey\":\"<enter your api key here>\",\n",
    "    \"country\":country\n",
    "}\n",
    "\n",
    "#requesting the server with POST \n",
    "#does not work with GET\n",
    "req=requests.post(url,data=params)\n",
    "resp=req.json()\n",
    "\n",
    "dataoncorona=resp['data']\n",
    "\n",
    "#lets print pretty\n",
    "for key,value in dataoncorona.items():\n",
    "    print(\"{} = {} \".format(key,value))\n",
    "\n",
    "\n",
    "    \n",
    "print(\"Source : {}\".format(resp['source']))"
   ]
  }
 ],
 "metadata": {
  "kernelspec": {
   "display_name": "Python 3",
   "language": "python",
   "name": "python3"
  },
  "language_info": {
   "codemirror_mode": {
    "name": "ipython",
    "version": 3
   },
   "file_extension": ".py",
   "mimetype": "text/x-python",
   "name": "python",
   "nbconvert_exporter": "python",
   "pygments_lexer": "ipython3",
   "version": "3.8.2"
  }
 },
 "nbformat": 4,
 "nbformat_minor": 4
}
